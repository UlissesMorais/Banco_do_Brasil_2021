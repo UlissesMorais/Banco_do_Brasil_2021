{
 "cells": [
  {
   "cell_type": "code",
   "execution_count": null,
   "id": "described-neutral",
   "metadata": {},
   "outputs": [],
   "source": [
    "import numpy as np\n",
    "import pandas as pd"
   ]
  },
  {
   "cell_type": "code",
   "execution_count": null,
   "id": "refined-night",
   "metadata": {},
   "outputs": [],
   "source": [
    "# carrega dados\n",
    "dfDataChampionship = pd.read_parquet(\"./dados/dados_brasileirao_2003-2023.parquet\")\n",
    "\n",
    "# ordena do mais antigo para mais recente\n",
    "dfDataChampionship = dfDataChampionship.sort_values(\"Data\", ignore_index=True)\n",
    "\n",
    "# ajusta dados para String()\n",
    "dfDataChampionship[\"Rodada\"]           = dfDataChampionship[\"Rodada\"].map(str)\n",
    "# dfDataChampionship[\"Mandante_Placar\"]  = dfDataChampionship[\"Mandante_Placar\"].map(str)\n",
    "# dfDataChampionship[\"Visitante_Placar\"] = dfDataChampionship[\"Visitante_Placar\"].map(str)\n",
    "\n",
    "# mostra dados\n",
    "dfDataChampionship.head(3)"
   ]
  },
  {
   "cell_type": "code",
   "execution_count": null,
   "id": "imperial-negative",
   "metadata": {},
   "outputs": [],
   "source": [
    "# filtra para apenas o Brasileirao 2022\n",
    "filter1  =  dfDataChampionship['Torneio'] == \"BRA2022\"\n",
    "brasilianLeague = dfDataChampionship.loc[filter1]\n",
    "\n",
    "#mostra dados brasileirao 2020\n",
    "brasilianLeague.head(3)"
   ]
  },
  {
   "cell_type": "code",
   "execution_count": null,
   "id": "5547b3f0",
   "metadata": {},
   "outputs": [],
   "source": [
    "# filtra apenas o Palmeiras\n",
    "clube = \"Palmeiras\"\n",
    "filter2  = (brasilianLeague['Mandante'] == clube) | (brasilianLeague['Visitante'] == clube)\n",
    "partidas_clube = brasilianLeague.loc[filter2]\n",
    "\n",
    "# ordena por Data\n",
    "partidas_clube = partidas_clube.sort_values(\"Data\", ignore_index=True)\n",
    "\n",
    "# mostra dados jogos Palmeiras\n",
    "partidas_clube.head(4)"
   ]
  },
  {
   "cell_type": "code",
   "execution_count": null,
   "id": "ba53e6e5",
   "metadata": {},
   "outputs": [],
   "source": [
    "# cria colunas para jogos Totais\n",
    "partidas_clube[\"Vitorias\"] = np.nan\n",
    "partidas_clube[\"Empates\"]  = np.nan\n",
    "partidas_clube[\"Derrotas\"] = np.nan\n",
    "partidas_clube[\"Jogos\"]    = np.nan\n",
    "\n",
    "# cria coluna para jogos como Mandante\n",
    "partidas_clube[\"Vit_Mandante\"]   = np.nan\n",
    "partidas_clube[\"Emp_Mandante\"]   = np.nan\n",
    "partidas_clube[\"Der_Mandante\"]   = np.nan\n",
    "partidas_clube[\"Jogos_Mandante\"] = np.nan\n",
    "\n",
    "# cria coluna para Gols como Mandante\n",
    "partidas_clube[\"GP_Mandante\"] = np.nan\n",
    "partidas_clube[\"GC_Mandante\"] = np.nan\n",
    "partidas_clube[\"SG_Mandante\"] = np.nan\n",
    "\n",
    "# cria coluna para Gols como Visitante\n",
    "partidas_clube[\"GP_Visitante\"] = np.nan\n",
    "partidas_clube[\"GC_Visitante\"] = np.nan\n",
    "partidas_clube[\"SG_Visitante\"] = np.nan\n",
    "\n",
    "\n",
    "for idx in partidas_clube.index:\n",
    "    \n",
    "    # seleciona por indice\n",
    "    df = partidas_clube.loc[:idx, :]\n",
    "    \n",
    "    # conta os totais de Vitorias, Empates e Derrotas\n",
    "    partidas_clube.loc[idx, \"Vitorias\"] = (df[\"Vencedor\"] == clube).sum()\n",
    "    partidas_clube.loc[idx, \"Empates\"] = (df[\"Vencedor\"] == '-').sum()\n",
    "    partidas_clube.loc[idx, \"Derrotas\"] = (df[\"Derrotado\"] == clube).sum()\n",
    "    partidas_clube.loc[idx, \"Jogos\"] = len(df.index)\n",
    "    \n",
    "    # filtra para jogos que o clube é Mandante\n",
    "    df_mand = df.loc[df[\"Mandante\"] == clube]\n",
    "    df_visit = df.loc[df[\"Visitante\"] == clube]\n",
    "    \n",
    "    # conta os totais de Vitorias, Empates e Derrotas COMO MANDANTE\n",
    "    partidas_clube.loc[idx, \"Vit_Mandante\"] = (df_mand[\"Vencedor\"] == clube).sum()\n",
    "    partidas_clube.loc[idx, \"Emp_Mandante\"] = (df_mand[\"Vencedor\"] == '-').sum()\n",
    "    partidas_clube.loc[idx, \"Der_Mandante\"] = (df_mand[\"Derrotado\"] == clube).sum()\n",
    "    partidas_clube.loc[idx, \"Jogos_Mandante\"] = len(df_mand.index)\n",
    "    \n",
    "    # GP, GC e SG como MANDANTE\n",
    "    partidas_clube.loc[idx, \"GP_Mandante\"] = df_mand[\"Mandante_Placar\"].sum()\n",
    "    partidas_clube.loc[idx, \"GC_Mandante\"] = df_mand[\"Visitante_Placar\"].sum()\n",
    "    partidas_clube.loc[idx, \"SG_Mandante\"] = partidas_clube.loc[idx, \"GP_Mandante\"] - partidas_clube.loc[idx, \"GC_Mandante\"]\n",
    "\n",
    "    # GP, GC e SG como VISITANTE\n",
    "    partidas_clube.loc[idx, \"GP_Visitante\"] = df_visit[\"Visitante_Placar\"].sum()\n",
    "    partidas_clube.loc[idx, \"GC_Visitante\"] = df_visit[\"Mandante_Placar\"].sum()\n",
    "    partidas_clube.loc[idx, \"SG_Visitante\"] = partidas_clube.loc[idx, \"GP_Visitante\"] - partidas_clube.loc[idx, \"GC_Visitante\"]\n",
    "\n",
    "# dados como Visitante\n",
    "partidas_clube[\"Vit_Visitante\"] = partidas_clube[\"Vitorias\"] - partidas_clube[\"Vit_Mandante\"]\n",
    "partidas_clube[\"Emp_Visitante\"] = partidas_clube[\"Empates\"] - partidas_clube[\"Emp_Mandante\"]\n",
    "partidas_clube[\"Der_Visitante\"] = partidas_clube[\"Derrotas\"] - partidas_clube[\"Der_Mandante\"]\n",
    "partidas_clube[\"Jogos_Visitante\"] = partidas_clube[\"Jogos\"] - partidas_clube[\"Jogos_Mandante\"]\n",
    "\n",
    "# PG_Total, PG_Mandante e PG_Visitante - PG -> Pontos Garantidos\n",
    "partidas_clube[\"PG_Total\"]     = 3 * partidas_clube[\"Vitorias\"] + partidas_clube[\"Empates\"]\n",
    "partidas_clube[\"PG_Mandante\"]  = 3 * partidas_clube[\"Vit_Mandante\"] + partidas_clube[\"Emp_Mandante\"]\n",
    "partidas_clube[\"PG_Visitante\"] = 3 * partidas_clube[\"Vit_Visitante\"] + partidas_clube[\"Emp_Visitante\"]\n",
    "\n",
    "# cria coluna para Gols Total\n",
    "partidas_clube[\"GP_Total\"] = partidas_clube[\"GP_Mandante\"] + partidas_clube[\"GP_Visitante\"]\n",
    "partidas_clube[\"GC_Total\"] = partidas_clube[\"GC_Mandante\"] + partidas_clube[\"GC_Visitante\"]\n",
    "partidas_clube[\"SG_Total\"] = partidas_clube[\"GP_Total\"] - partidas_clube[\"GC_Total\"]\n"
   ]
  },
  {
   "cell_type": "code",
   "execution_count": null,
   "id": "187cfc03",
   "metadata": {},
   "outputs": [],
   "source": [
    "partidas_clube.head(5)"
   ]
  },
  {
   "cell_type": "code",
   "execution_count": null,
   "id": "a2ca94ad",
   "metadata": {},
   "outputs": [],
   "source": [
    "partidas_clube[['ID', 'Torneio', 'Rodada', 'Data', 'Mandante', 'Visitante', 'Arena', 'Placar',\n",
    "               'GP_Mandante', 'GC_Mandante', 'SG_Mandante', 'GP_Visitante', 'GC_Visitante', 'SG_Visitante',\n",
    "               'GP_Total', 'GC_Total', 'SG_Total']].tail()"
   ]
  },
  {
   "cell_type": "code",
   "execution_count": null,
   "id": "9deccfbe",
   "metadata": {},
   "outputs": [],
   "source": []
  },
  {
   "cell_type": "code",
   "execution_count": null,
   "id": "87c611f9",
   "metadata": {},
   "outputs": [],
   "source": []
  },
  {
   "cell_type": "code",
   "execution_count": null,
   "id": "131af099",
   "metadata": {},
   "outputs": [],
   "source": []
  }
 ],
 "metadata": {
  "kernelspec": {
   "display_name": "Python 3 (ipykernel)",
   "language": "python",
   "name": "python3"
  },
  "language_info": {
   "codemirror_mode": {
    "name": "ipython",
    "version": 3
   },
   "file_extension": ".py",
   "mimetype": "text/x-python",
   "name": "python",
   "nbconvert_exporter": "python",
   "pygments_lexer": "ipython3",
   "version": "3.9.12"
  }
 },
 "nbformat": 4,
 "nbformat_minor": 5
}
