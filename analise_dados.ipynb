{
 "cells": [
  {
   "cell_type": "markdown",
   "id": "544e6cdf",
   "metadata": {},
   "source": [
    "### Resultado Concurso Banco do Brasil - Agente de Tecnologia 2021\n",
    "\n",
    "Pelo edital, as vagas disponibilzadas foram:\n",
    "\n",
    "| AC  | PcD | PPP | Total |\n",
    "| --- | --- | --- | ----- |\n",
    "| 180 | 12  | 48  | 240   |"
   ]
  },
  {
   "cell_type": "code",
   "execution_count": 1,
   "id": "6e9f350b",
   "metadata": {},
   "outputs": [],
   "source": [
    "import numpy as np\n",
    "import pandas as pd"
   ]
  },
  {
   "cell_type": "code",
   "execution_count": 2,
   "id": "4b4c50d3",
   "metadata": {},
   "outputs": [
    {
     "name": "stdout",
     "output_type": "stream",
     "text": [
      "['polo nome nascimento cpf inscrição l_port l_ing mat atu conh_bas prob c_ban tec conh_esp pontos class_ac class_pcd class_ppp situação_final\\n', 'MACRORREGIÃO 10 - MICRORREGIÃO 16 ADELSON JHONATA SILVA DE SOUSA 30/09/1997 XXX.917.491-XX 01800352210 9,0 5,0 6,0 4,0 24,0 3,0 7,5 27,0 37,5 61,5 410 36 CLASSIFICADO\\n', 'MACRORREGIÃO 10 - MICRORREGIÃO 16 ADERSON LUCAS MENDONCA E SILVA MEDEIROS 09/05/1985 XXX.494.124-XX 01800287469 10,5 5,0 7,5 5,0 28,0 6,0 6,0 24,0 36,0 64,0 312 CADASTRO-RESERVA\\n', 'MACRORREGIÃO 10 - MICRORREGIÃO 16 ADRIANA DE FATIMA LOURENCON WATANABE 06/02/1981 XXX.251.678-XX 09700032960 12,0 3,0 7,5 4,0 26,5 4,5 4,5 33,0 42,0 68,5 151 CLASSIFICADO\\n', 'MACRORREGIÃO 10 - MICRORREGIÃO 16 ADRIANO DUTRA DE DEUS FERREIRA 30/10/1989 XXX.432.111-XX 01800255982 13,5 3,0 7,5 4,0 28,0 4,5 6,0 28,5 39,0 67,0 203 CADASTRO-RESERVA\\n']\n",
      "len lines: 481\n"
     ]
    }
   ],
   "source": [
    "# le arquivo com os dados\n",
    "with open('resultado_agente_tecnologia_2021.txt', 'r') as f:\n",
    "    lines = f.readlines()\n",
    "\n",
    "print(lines[:5])\n",
    "print('len lines:', len(lines))"
   ]
  },
  {
   "cell_type": "code",
   "execution_count": 3,
   "id": "83934882",
   "metadata": {},
   "outputs": [],
   "source": [
    "header = lines[0].upper().replace('\\n', '').split(' ')\n",
    "\n",
    "df = pd.DataFrame(columns=header[:16] + ['CLASS_PCD_PPP'] + [header[-1]],\n",
    "                  index=range(len(lines[1:])))\n",
    "\n",
    "for i, line in enumerate(lines[1:]):\n",
    "    \n",
    "    line = line.lower()\n",
    "    \n",
    "    string = line.replace('\\n', '')\n",
    "    polo = string[:(line.find('16') + 3)]        # filtra o polo\n",
    "\n",
    "    string2 = string[(line.find('16') + 3):]      \n",
    "    nome = string2[:(string2.find('/') - 2)]     # filtra o nome\n",
    "\n",
    "    string3 = string2[(string2.find('/') -2):]\n",
    "    \n",
    "    # confere se é PCD ou PPP\n",
    "    if len(string3.split(' ')) <= 15:\n",
    "        df.loc[i, 'CLASS_PCD_PPP'] = 'Nao'\n",
    "        \n",
    "    else:\n",
    "        df.loc[i, 'CLASS_PCD_PPP'] = 'Sim'\n",
    "    \n",
    "    df.loc[i,'POLO'] = polo.capitalize()\n",
    "    df.loc[i,'NOME'] = nome.capitalize()\n",
    "    df.loc[i,'NASCIMENTO':'CLASS_AC'] = string3.split(' ')[:14]\n",
    "    df.loc[i, 'SITUAÇÃO_FINAL'] = string3.split(' ')[-1]\n",
    "\n",
    "# Trata colunas numericas\n",
    "num_col = ['L_PORT', 'L_ING', 'MAT', 'ATU', 'CONH_BAS', 'PROB', 'C_BAN', 'TEC', 'CONH_ESP', 'PONTOS', 'CLASS_AC']\n",
    "\n",
    "for col in num_col:\n",
    "    df[col] = df[col].str.replace(',', '.').astype(np.float64)\n",
    "\n",
    "df['SITUAÇÃO_FINAL'] = df['SITUAÇÃO_FINAL'].str.capitalize()\n",
    "df['NASCIMENTO'] = pd.to_datetime(df['NASCIMENTO'], format=\"%d/%m/%Y\", dayfirst=True)\n"
   ]
  },
  {
   "cell_type": "code",
   "execution_count": 8,
   "id": "78db32be",
   "metadata": {},
   "outputs": [
    {
     "data": {
      "text/html": [
       "<div>\n",
       "<style scoped>\n",
       "    .dataframe tbody tr th:only-of-type {\n",
       "        vertical-align: middle;\n",
       "    }\n",
       "\n",
       "    .dataframe tbody tr th {\n",
       "        vertical-align: top;\n",
       "    }\n",
       "\n",
       "    .dataframe thead th {\n",
       "        text-align: right;\n",
       "    }\n",
       "</style>\n",
       "<table border=\"1\" class=\"dataframe\">\n",
       "  <thead>\n",
       "    <tr style=\"text-align: right;\">\n",
       "      <th></th>\n",
       "      <th>POLO</th>\n",
       "      <th>NOME</th>\n",
       "      <th>NASCIMENTO</th>\n",
       "      <th>CPF</th>\n",
       "      <th>INSCRIÇÃO</th>\n",
       "      <th>L_PORT</th>\n",
       "      <th>L_ING</th>\n",
       "      <th>MAT</th>\n",
       "      <th>ATU</th>\n",
       "      <th>CONH_BAS</th>\n",
       "      <th>PROB</th>\n",
       "      <th>C_BAN</th>\n",
       "      <th>TEC</th>\n",
       "      <th>CONH_ESP</th>\n",
       "      <th>PONTOS</th>\n",
       "      <th>CLASS_AC</th>\n",
       "      <th>CLASS_PCD_PPP</th>\n",
       "      <th>SITUAÇÃO_FINAL</th>\n",
       "    </tr>\n",
       "  </thead>\n",
       "  <tbody>\n",
       "    <tr>\n",
       "      <th>0</th>\n",
       "      <td>Macrorregião 10 - microrregião 16</td>\n",
       "      <td>Adelson jhonata silva de sousa</td>\n",
       "      <td>1997-09-30</td>\n",
       "      <td>xxx.917.491-xx</td>\n",
       "      <td>01800352210</td>\n",
       "      <td>9.0</td>\n",
       "      <td>5.0</td>\n",
       "      <td>6.0</td>\n",
       "      <td>4.0</td>\n",
       "      <td>24.0</td>\n",
       "      <td>3.0</td>\n",
       "      <td>7.5</td>\n",
       "      <td>27.0</td>\n",
       "      <td>37.5</td>\n",
       "      <td>61.5</td>\n",
       "      <td>410.0</td>\n",
       "      <td>Sim</td>\n",
       "      <td>Classificado</td>\n",
       "    </tr>\n",
       "    <tr>\n",
       "      <th>1</th>\n",
       "      <td>Macrorregião 10 - microrregião 16</td>\n",
       "      <td>Aderson lucas mendonca e silva medeiros</td>\n",
       "      <td>1985-05-09</td>\n",
       "      <td>xxx.494.124-xx</td>\n",
       "      <td>01800287469</td>\n",
       "      <td>10.5</td>\n",
       "      <td>5.0</td>\n",
       "      <td>7.5</td>\n",
       "      <td>5.0</td>\n",
       "      <td>28.0</td>\n",
       "      <td>6.0</td>\n",
       "      <td>6.0</td>\n",
       "      <td>24.0</td>\n",
       "      <td>36.0</td>\n",
       "      <td>64.0</td>\n",
       "      <td>312.0</td>\n",
       "      <td>Nao</td>\n",
       "      <td>Cadastro-reserva</td>\n",
       "    </tr>\n",
       "    <tr>\n",
       "      <th>2</th>\n",
       "      <td>Macrorregião 10 - microrregião 16</td>\n",
       "      <td>Adriana de fatima lourencon watanabe</td>\n",
       "      <td>1981-02-06</td>\n",
       "      <td>xxx.251.678-xx</td>\n",
       "      <td>09700032960</td>\n",
       "      <td>12.0</td>\n",
       "      <td>3.0</td>\n",
       "      <td>7.5</td>\n",
       "      <td>4.0</td>\n",
       "      <td>26.5</td>\n",
       "      <td>4.5</td>\n",
       "      <td>4.5</td>\n",
       "      <td>33.0</td>\n",
       "      <td>42.0</td>\n",
       "      <td>68.5</td>\n",
       "      <td>151.0</td>\n",
       "      <td>Nao</td>\n",
       "      <td>Classificado</td>\n",
       "    </tr>\n",
       "  </tbody>\n",
       "</table>\n",
       "</div>"
      ],
      "text/plain": [
       "                                 POLO  \\\n",
       "0  Macrorregião 10 - microrregião 16    \n",
       "1  Macrorregião 10 - microrregião 16    \n",
       "2  Macrorregião 10 - microrregião 16    \n",
       "\n",
       "                                       NOME NASCIMENTO             CPF  \\\n",
       "0           Adelson jhonata silva de sousa  1997-09-30  xxx.917.491-xx   \n",
       "1  Aderson lucas mendonca e silva medeiros  1985-05-09  xxx.494.124-xx   \n",
       "2     Adriana de fatima lourencon watanabe  1981-02-06  xxx.251.678-xx   \n",
       "\n",
       "     INSCRIÇÃO  L_PORT  L_ING  MAT  ATU  CONH_BAS  PROB  C_BAN   TEC  \\\n",
       "0  01800352210     9.0    5.0  6.0  4.0      24.0   3.0    7.5  27.0   \n",
       "1  01800287469    10.5    5.0  7.5  5.0      28.0   6.0    6.0  24.0   \n",
       "2  09700032960    12.0    3.0  7.5  4.0      26.5   4.5    4.5  33.0   \n",
       "\n",
       "   CONH_ESP  PONTOS  CLASS_AC CLASS_PCD_PPP    SITUAÇÃO_FINAL  \n",
       "0      37.5    61.5     410.0           Sim      Classificado  \n",
       "1      36.0    64.0     312.0           Nao  Cadastro-reserva  \n",
       "2      42.0    68.5     151.0           Nao      Classificado  "
      ]
     },
     "execution_count": 8,
     "metadata": {},
     "output_type": "execute_result"
    }
   ],
   "source": [
    "df.head(3)"
   ]
  },
  {
   "cell_type": "code",
   "execution_count": 5,
   "id": "f35a922d",
   "metadata": {},
   "outputs": [
    {
     "data": {
      "text/plain": [
       "Classificado        240\n",
       "Cadastro-reserva    240\n",
       "Name: SITUAÇÃO_FINAL, dtype: int64"
      ]
     },
     "execution_count": 5,
     "metadata": {},
     "output_type": "execute_result"
    }
   ],
   "source": [
    "# numero de classificados e cadastro-reserva\n",
    "df['SITUAÇÃO_FINAL'].value_counts()"
   ]
  },
  {
   "cell_type": "code",
   "execution_count": 6,
   "id": "e1080310",
   "metadata": {},
   "outputs": [
    {
     "data": {
      "text/plain": [
       "Nao    420\n",
       "Sim     60\n",
       "Name: CLASS_PCD_PPP, dtype: int64"
      ]
     },
     "execution_count": 6,
     "metadata": {},
     "output_type": "execute_result"
    }
   ],
   "source": [
    "df['CLASS_PCD_PPP'].value_counts()"
   ]
  },
  {
   "cell_type": "code",
   "execution_count": 10,
   "id": "90abcdd6",
   "metadata": {},
   "outputs": [],
   "source": [
    "# separa em classificados e cadastro reserva e filtra por ampla concorrencia apenas\n",
    "classificados_ac = df.loc[(df['SITUAÇÃO_FINAL'] == 'Classificado') & (df.CLASS_PCD_PPP == 'Nao')]\n",
    "cad_reserva = df.loc[(df['SITUAÇÃO_FINAL'] == 'Cadastro-reserva') & (df.CLASS_PCD_PPP == 'Nao')]\n"
   ]
  },
  {
   "cell_type": "code",
   "execution_count": 20,
   "id": "a5007721",
   "metadata": {},
   "outputs": [
    {
     "name": "stdout",
     "output_type": "stream",
     "text": [
      "Nota de corte (pontos):  67.5\n"
     ]
    },
    {
     "data": {
      "text/html": [
       "<div>\n",
       "<style scoped>\n",
       "    .dataframe tbody tr th:only-of-type {\n",
       "        vertical-align: middle;\n",
       "    }\n",
       "\n",
       "    .dataframe tbody tr th {\n",
       "        vertical-align: top;\n",
       "    }\n",
       "\n",
       "    .dataframe thead th {\n",
       "        text-align: right;\n",
       "    }\n",
       "</style>\n",
       "<table border=\"1\" class=\"dataframe\">\n",
       "  <thead>\n",
       "    <tr style=\"text-align: right;\">\n",
       "      <th></th>\n",
       "      <th>NOME</th>\n",
       "      <th>NASCIMENTO</th>\n",
       "      <th>CPF</th>\n",
       "      <th>INSCRIÇÃO</th>\n",
       "      <th>L_PORT</th>\n",
       "      <th>L_ING</th>\n",
       "      <th>MAT</th>\n",
       "      <th>ATU</th>\n",
       "      <th>CONH_BAS</th>\n",
       "      <th>PROB</th>\n",
       "      <th>C_BAN</th>\n",
       "      <th>TEC</th>\n",
       "      <th>CONH_ESP</th>\n",
       "      <th>PONTOS</th>\n",
       "      <th>CLASS_AC</th>\n",
       "      <th>CLASS_PCD_PPP</th>\n",
       "      <th>SITUAÇÃO_FINAL</th>\n",
       "    </tr>\n",
       "  </thead>\n",
       "  <tbody>\n",
       "    <tr>\n",
       "      <th>138</th>\n",
       "      <td>Felipe yuri inoue</td>\n",
       "      <td>1992-08-17</td>\n",
       "      <td>xxx.933.188-xx</td>\n",
       "      <td>01800701478</td>\n",
       "      <td>12.0</td>\n",
       "      <td>5.0</td>\n",
       "      <td>7.5</td>\n",
       "      <td>4.0</td>\n",
       "      <td>28.5</td>\n",
       "      <td>3.0</td>\n",
       "      <td>6.0</td>\n",
       "      <td>30.0</td>\n",
       "      <td>39.0</td>\n",
       "      <td>67.5</td>\n",
       "      <td>185.0</td>\n",
       "      <td>Nao</td>\n",
       "      <td>Classificado</td>\n",
       "    </tr>\n",
       "    <tr>\n",
       "      <th>470</th>\n",
       "      <td>Wallas ferreira de morais</td>\n",
       "      <td>1983-08-09</td>\n",
       "      <td>xxx.261.106-xx</td>\n",
       "      <td>01800686363</td>\n",
       "      <td>15.0</td>\n",
       "      <td>5.0</td>\n",
       "      <td>3.0</td>\n",
       "      <td>4.0</td>\n",
       "      <td>27.0</td>\n",
       "      <td>4.5</td>\n",
       "      <td>7.5</td>\n",
       "      <td>28.5</td>\n",
       "      <td>40.5</td>\n",
       "      <td>67.5</td>\n",
       "      <td>183.0</td>\n",
       "      <td>Nao</td>\n",
       "      <td>Classificado</td>\n",
       "    </tr>\n",
       "    <tr>\n",
       "      <th>467</th>\n",
       "      <td>Vitor de araujo vieira</td>\n",
       "      <td>1993-10-04</td>\n",
       "      <td>xxx.093.481-xx</td>\n",
       "      <td>01800924922</td>\n",
       "      <td>7.5</td>\n",
       "      <td>4.0</td>\n",
       "      <td>6.0</td>\n",
       "      <td>5.0</td>\n",
       "      <td>22.5</td>\n",
       "      <td>4.5</td>\n",
       "      <td>6.0</td>\n",
       "      <td>34.5</td>\n",
       "      <td>45.0</td>\n",
       "      <td>67.5</td>\n",
       "      <td>182.0</td>\n",
       "      <td>Nao</td>\n",
       "      <td>Classificado</td>\n",
       "    </tr>\n",
       "  </tbody>\n",
       "</table>\n",
       "</div>"
      ],
      "text/plain": [
       "                           NOME NASCIMENTO             CPF    INSCRIÇÃO  \\\n",
       "138          Felipe yuri inoue  1992-08-17  xxx.933.188-xx  01800701478   \n",
       "470  Wallas ferreira de morais  1983-08-09  xxx.261.106-xx  01800686363   \n",
       "467     Vitor de araujo vieira  1993-10-04  xxx.093.481-xx  01800924922   \n",
       "\n",
       "     L_PORT  L_ING  MAT  ATU  CONH_BAS  PROB  C_BAN   TEC  CONH_ESP  PONTOS  \\\n",
       "138    12.0    5.0  7.5  4.0      28.5   3.0    6.0  30.0      39.0    67.5   \n",
       "470    15.0    5.0  3.0  4.0      27.0   4.5    7.5  28.5      40.5    67.5   \n",
       "467     7.5    4.0  6.0  5.0      22.5   4.5    6.0  34.5      45.0    67.5   \n",
       "\n",
       "     CLASS_AC CLASS_PCD_PPP SITUAÇÃO_FINAL  \n",
       "138     185.0           Nao   Classificado  \n",
       "470     183.0           Nao   Classificado  \n",
       "467     182.0           Nao   Classificado  "
      ]
     },
     "execution_count": 20,
     "metadata": {},
     "output_type": "execute_result"
    }
   ],
   "source": [
    "print('Nota de corte (pontos): ', classificados_ac['PONTOS'].min())\n",
    "classificados_ac.sort_values('PONTOS', ascending=True).drop('POLO', axis=1).head(3)"
   ]
  },
  {
   "cell_type": "code",
   "execution_count": 43,
   "id": "c2e851af",
   "metadata": {},
   "outputs": [
    {
     "data": {
      "image/png": "[encoded data removed]",
      "text/plain": [
       "<Figure size 720x288 with 1 Axes>"
      ]
     },
     "metadata": {
      "needs_background": "light"
     },
     "output_type": "display_data"
    }
   ],
   "source": [
    "classificados_ac['PONTOS'].hist(bins=14, figsize=(10,4));"
   ]
  },
  {
   "cell_type": "code",
   "execution_count": null,
   "id": "d0872478",
   "metadata": {},
   "outputs": [],
   "source": []
  },
  {
   "cell_type": "code",
   "execution_count": null,
   "id": "a1957b5d",
   "metadata": {},
   "outputs": [],
   "source": []
  }
 ],
 "metadata": {
  "kernelspec": {
   "display_name": "Python 3 (ipykernel)",
   "language": "python",
   "name": "python3"
  },
  "language_info": {
   "codemirror_mode": {
    "name": "ipython",
    "version": 3
   },
   "file_extension": ".py",
   "mimetype": "text/x-python",
   "name": "python",
   "nbconvert_exporter": "python",
   "pygments_lexer": "ipython3",
   "version": "3.9.12"
  }
 },
 "nbformat": 4,
 "nbformat_minor": 5
}
